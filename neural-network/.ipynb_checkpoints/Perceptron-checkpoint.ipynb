{
 "cells": [
  {
   "cell_type": "code",
   "execution_count": 3,
   "metadata": {},
   "outputs": [],
   "source": [
    "%matplotlib inline\n",
    "import numpy as np\n",
    "import pandas as pd\n",
    "import matplotlib.pyplot as plt\n",
    "import seaborn as sns\n",
    "import pydataset\n",
    "sns.set()"
   ]
  },
  {
   "cell_type": "code",
   "execution_count": 258,
   "metadata": {},
   "outputs": [],
   "source": [
    "class Perceptron:\n",
    "    def __init__(self):\n",
    "        return\n",
    "    \n",
    "    def feed_forward(self, x):\n",
    "        x_ = np.array([1])\n",
    "        x_ = np.concatenate((x_, x), axis = 0)\n",
    "        out = np.dot(self.weights, x_)\n",
    "        if out>0:\n",
    "            return 1\n",
    "        else:\n",
    "            return -1\n",
    "    \n",
    "    def train(self, X, y, neta = 0.5, epochs = 1000, ms_error = 0.2):\n",
    "        self.weights = np.random.rand(X.shape[1] + 1)\n",
    "        for t in range(epochs):\n",
    "            errors = np.zeros(len(y))\n",
    "            for i, x in enumerate(X):\n",
    "                output = self.feed_forward(x)\n",
    "                if output != y[i]:\n",
    "                    self.weights = self.weights + neta* (y[i] - output)* np.concatenate((np.array([1]),x))\n",
    "                errors[i] = y[i] - output\n",
    "            if np.linalg.norm(errors)/len(y) <= ms_error:\n",
    "                break\n",
    "        return\n",
    "    \n",
    "    def Predict(self, Test):\n",
    "        y_ = np.zeros(len(Test))\n",
    "        for i, x in enumerate(Test):\n",
    "            y_[i] = self.feed_forward(x)\n",
    "        return y_\n",
    "    \n",
    "    def score(self, X_test, y_test):\n",
    "        output = self.Predict(X_test)\n",
    "        mark = 0\n",
    "        for i in range(len(X_test)):\n",
    "            if output[i] == y_test[i]:\n",
    "                mark += 1\n",
    "        score = mark/len(y_test)\n",
    "        return score "
   ]
  },
  {
   "cell_type": "code",
   "execution_count": 259,
   "metadata": {},
   "outputs": [],
   "source": [
    "X = np.array([[-1, -1], [-1,1], [1,-1], [1,1]])\n",
    "y = np.array([-1,1,1,1])"
   ]
  },
  {
   "cell_type": "code",
   "execution_count": 261,
   "metadata": {},
   "outputs": [],
   "source": [
    "per = Perceptron()\n",
    "per.train(X, y, epochs = 10, ms_error = 0.5)"
   ]
  },
  {
   "cell_type": "code",
   "execution_count": 262,
   "metadata": {
    "scrolled": true
   },
   "outputs": [
    {
     "data": {
      "text/plain": [
       "1.0"
      ]
     },
     "execution_count": 262,
     "metadata": {},
     "output_type": "execute_result"
    }
   ],
   "source": [
    "per.score(X, y)"
   ]
  },
  {
   "cell_type": "code",
   "execution_count": null,
   "metadata": {},
   "outputs": [],
   "source": []
  }
 ],
 "metadata": {
  "kernelspec": {
   "display_name": "Python 3",
   "language": "python",
   "name": "python3"
  },
  "language_info": {
   "codemirror_mode": {
    "name": "ipython",
    "version": 3
   },
   "file_extension": ".py",
   "mimetype": "text/x-python",
   "name": "python",
   "nbconvert_exporter": "python",
   "pygments_lexer": "ipython3",
   "version": "3.5.2"
  }
 },
 "nbformat": 4,
 "nbformat_minor": 2
}
