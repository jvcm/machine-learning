{
 "cells": [
  {
   "cell_type": "code",
   "execution_count": 1,
   "metadata": {},
   "outputs": [],
   "source": [
    "import pandas as pd\n",
    "from db import DB"
   ]
  },
  {
   "cell_type": "code",
   "execution_count": 24,
   "metadata": {},
   "outputs": [
    {
     "name": "stderr",
     "output_type": "stream",
     "text": [
      "Indexing schema. This will take a second...finished!\n"
     ]
    }
   ],
   "source": [
    "database = DB(filename = 'logs.sqlite3', dbtype = 'sqlite')"
   ]
  },
  {
   "cell_type": "code",
   "execution_count": 25,
   "metadata": {},
   "outputs": [
    {
     "name": "stderr",
     "output_type": "stream",
     "text": [
      "Refreshing schema. Please wait...done!\n"
     ]
    },
    {
     "data": {
      "text/html": [
       "<table>\n",
       "    <tr>\n",
       "        <th>Schema</th>\n",
       "        <th>Table</th>\n",
       "        <th>Columns</th>\n",
       "    </tr>\n",
       "    <tr>\n",
       "        <td>public</td>\n",
       "        <td>log</td>\n",
       "        <td>id, path, user_id, date</td>\n",
       "    </tr>\n",
       "</table>"
      ],
      "text/plain": [
       "+--------+-------+-------------------------+\n",
       "| Schema | Table | Columns                 |\n",
       "+--------+-------+-------------------------+\n",
       "| public | log   | id, path, user_id, date |\n",
       "+--------+-------+-------------------------+"
      ]
     },
     "execution_count": 25,
     "metadata": {},
     "output_type": "execute_result"
    }
   ],
   "source": [
    "database.tables"
   ]
  },
  {
   "cell_type": "code",
   "execution_count": 40,
   "metadata": {},
   "outputs": [],
   "source": [
    "log_df = database.tables.log.all()"
   ]
  },
  {
   "cell_type": "code",
   "execution_count": 41,
   "metadata": {},
   "outputs": [
    {
     "data": {
      "text/html": [
       "<div>\n",
       "<style scoped>\n",
       "    .dataframe tbody tr th:only-of-type {\n",
       "        vertical-align: middle;\n",
       "    }\n",
       "\n",
       "    .dataframe tbody tr th {\n",
       "        vertical-align: top;\n",
       "    }\n",
       "\n",
       "    .dataframe thead th {\n",
       "        text-align: right;\n",
       "    }\n",
       "</style>\n",
       "<table border=\"1\" class=\"dataframe\">\n",
       "  <thead>\n",
       "    <tr style=\"text-align: right;\">\n",
       "      <th></th>\n",
       "      <th>id</th>\n",
       "      <th>path</th>\n",
       "      <th>user_id</th>\n",
       "      <th>date</th>\n",
       "    </tr>\n",
       "  </thead>\n",
       "  <tbody>\n",
       "    <tr>\n",
       "      <th>0</th>\n",
       "      <td>1</td>\n",
       "      <td>/</td>\n",
       "      <td>3</td>\n",
       "      <td>2017-01-03T11:41:00</td>\n",
       "    </tr>\n",
       "    <tr>\n",
       "      <th>1</th>\n",
       "      <td>2</td>\n",
       "      <td>/pandas/</td>\n",
       "      <td>4</td>\n",
       "      <td>2017-01-03T11:37:00</td>\n",
       "    </tr>\n",
       "    <tr>\n",
       "      <th>2</th>\n",
       "      <td>3</td>\n",
       "      <td>/videos/</td>\n",
       "      <td>5</td>\n",
       "      <td>2017-01-03T10:47:00</td>\n",
       "    </tr>\n",
       "    <tr>\n",
       "      <th>3</th>\n",
       "      <td>4</td>\n",
       "      <td>/</td>\n",
       "      <td>2</td>\n",
       "      <td>2017-01-03T11:51:00</td>\n",
       "    </tr>\n",
       "    <tr>\n",
       "      <th>4</th>\n",
       "      <td>5</td>\n",
       "      <td>/python-para-zumbis/</td>\n",
       "      <td>5</td>\n",
       "      <td>2017-01-03T10:32:00</td>\n",
       "    </tr>\n",
       "  </tbody>\n",
       "</table>\n",
       "</div>"
      ],
      "text/plain": [
       "   id                  path  user_id                 date\n",
       "0   1                     /        3  2017-01-03T11:41:00\n",
       "1   2              /pandas/        4  2017-01-03T11:37:00\n",
       "2   3              /videos/        5  2017-01-03T10:47:00\n",
       "3   4                     /        2  2017-01-03T11:51:00\n",
       "4   5  /python-para-zumbis/        5  2017-01-03T10:32:00"
      ]
     },
     "execution_count": 41,
     "metadata": {},
     "output_type": "execute_result"
    }
   ],
   "source": [
    "log_df.head()"
   ]
  },
  {
   "cell_type": "code",
   "execution_count": 42,
   "metadata": {},
   "outputs": [
    {
     "data": {
      "text/plain": [
       "id          int64\n",
       "path       object\n",
       "user_id     int64\n",
       "date       object\n",
       "dtype: object"
      ]
     },
     "execution_count": 42,
     "metadata": {},
     "output_type": "execute_result"
    }
   ],
   "source": [
    "log_df.dtypes"
   ]
  },
  {
   "cell_type": "code",
   "execution_count": 43,
   "metadata": {},
   "outputs": [],
   "source": [
    "log_df['date'] = pd.to_datetime(log_df['date'], format = '%Y-%m-%d %H:%M:%S.%f')"
   ]
  },
  {
   "cell_type": "code",
   "execution_count": 44,
   "metadata": {},
   "outputs": [
    {
     "data": {
      "text/plain": [
       "id                  int64\n",
       "path               object\n",
       "user_id             int64\n",
       "date       datetime64[ns]\n",
       "dtype: object"
      ]
     },
     "execution_count": 44,
     "metadata": {},
     "output_type": "execute_result"
    }
   ],
   "source": [
    "log_df.dtypes"
   ]
  },
  {
   "cell_type": "code",
   "execution_count": 45,
   "metadata": {},
   "outputs": [
    {
     "data": {
      "text/html": [
       "<div>\n",
       "<style scoped>\n",
       "    .dataframe tbody tr th:only-of-type {\n",
       "        vertical-align: middle;\n",
       "    }\n",
       "\n",
       "    .dataframe tbody tr th {\n",
       "        vertical-align: top;\n",
       "    }\n",
       "\n",
       "    .dataframe thead th {\n",
       "        text-align: right;\n",
       "    }\n",
       "</style>\n",
       "<table border=\"1\" class=\"dataframe\">\n",
       "  <thead>\n",
       "    <tr style=\"text-align: right;\">\n",
       "      <th></th>\n",
       "      <th>id</th>\n",
       "      <th>path</th>\n",
       "      <th>user_id</th>\n",
       "      <th>date</th>\n",
       "    </tr>\n",
       "  </thead>\n",
       "  <tbody>\n",
       "    <tr>\n",
       "      <th>0</th>\n",
       "      <td>1</td>\n",
       "      <td>/</td>\n",
       "      <td>3</td>\n",
       "      <td>2017-01-03 11:41:00</td>\n",
       "    </tr>\n",
       "    <tr>\n",
       "      <th>1</th>\n",
       "      <td>2</td>\n",
       "      <td>/pandas/</td>\n",
       "      <td>4</td>\n",
       "      <td>2017-01-03 11:37:00</td>\n",
       "    </tr>\n",
       "    <tr>\n",
       "      <th>2</th>\n",
       "      <td>3</td>\n",
       "      <td>/videos/</td>\n",
       "      <td>5</td>\n",
       "      <td>2017-01-03 10:47:00</td>\n",
       "    </tr>\n",
       "    <tr>\n",
       "      <th>3</th>\n",
       "      <td>4</td>\n",
       "      <td>/</td>\n",
       "      <td>2</td>\n",
       "      <td>2017-01-03 11:51:00</td>\n",
       "    </tr>\n",
       "    <tr>\n",
       "      <th>4</th>\n",
       "      <td>5</td>\n",
       "      <td>/python-para-zumbis/</td>\n",
       "      <td>5</td>\n",
       "      <td>2017-01-03 10:32:00</td>\n",
       "    </tr>\n",
       "  </tbody>\n",
       "</table>\n",
       "</div>"
      ],
      "text/plain": [
       "   id                  path  user_id                date\n",
       "0   1                     /        3 2017-01-03 11:41:00\n",
       "1   2              /pandas/        4 2017-01-03 11:37:00\n",
       "2   3              /videos/        5 2017-01-03 10:47:00\n",
       "3   4                     /        2 2017-01-03 11:51:00\n",
       "4   5  /python-para-zumbis/        5 2017-01-03 10:32:00"
      ]
     },
     "execution_count": 45,
     "metadata": {},
     "output_type": "execute_result"
    }
   ],
   "source": [
    "log_df.head()"
   ]
  },
  {
   "cell_type": "code",
   "execution_count": 46,
   "metadata": {},
   "outputs": [],
   "source": [
    "log_df.set_index(log_df.date, inplace=True)"
   ]
  },
  {
   "cell_type": "code",
   "execution_count": 47,
   "metadata": {},
   "outputs": [
    {
     "data": {
      "text/html": [
       "<div>\n",
       "<style scoped>\n",
       "    .dataframe tbody tr th:only-of-type {\n",
       "        vertical-align: middle;\n",
       "    }\n",
       "\n",
       "    .dataframe tbody tr th {\n",
       "        vertical-align: top;\n",
       "    }\n",
       "\n",
       "    .dataframe thead th {\n",
       "        text-align: right;\n",
       "    }\n",
       "</style>\n",
       "<table border=\"1\" class=\"dataframe\">\n",
       "  <thead>\n",
       "    <tr style=\"text-align: right;\">\n",
       "      <th></th>\n",
       "      <th>id</th>\n",
       "      <th>path</th>\n",
       "      <th>user_id</th>\n",
       "      <th>date</th>\n",
       "    </tr>\n",
       "    <tr>\n",
       "      <th>date</th>\n",
       "      <th></th>\n",
       "      <th></th>\n",
       "      <th></th>\n",
       "      <th></th>\n",
       "    </tr>\n",
       "  </thead>\n",
       "  <tbody>\n",
       "    <tr>\n",
       "      <th>2017-01-03 11:41:00</th>\n",
       "      <td>1</td>\n",
       "      <td>/</td>\n",
       "      <td>3</td>\n",
       "      <td>2017-01-03 11:41:00</td>\n",
       "    </tr>\n",
       "    <tr>\n",
       "      <th>2017-01-03 11:37:00</th>\n",
       "      <td>2</td>\n",
       "      <td>/pandas/</td>\n",
       "      <td>4</td>\n",
       "      <td>2017-01-03 11:37:00</td>\n",
       "    </tr>\n",
       "    <tr>\n",
       "      <th>2017-01-03 10:47:00</th>\n",
       "      <td>3</td>\n",
       "      <td>/videos/</td>\n",
       "      <td>5</td>\n",
       "      <td>2017-01-03 10:47:00</td>\n",
       "    </tr>\n",
       "    <tr>\n",
       "      <th>2017-01-03 11:51:00</th>\n",
       "      <td>4</td>\n",
       "      <td>/</td>\n",
       "      <td>2</td>\n",
       "      <td>2017-01-03 11:51:00</td>\n",
       "    </tr>\n",
       "    <tr>\n",
       "      <th>2017-01-03 10:32:00</th>\n",
       "      <td>5</td>\n",
       "      <td>/python-para-zumbis/</td>\n",
       "      <td>5</td>\n",
       "      <td>2017-01-03 10:32:00</td>\n",
       "    </tr>\n",
       "  </tbody>\n",
       "</table>\n",
       "</div>"
      ],
      "text/plain": [
       "                     id                  path  user_id                date\n",
       "date                                                                      \n",
       "2017-01-03 11:41:00   1                     /        3 2017-01-03 11:41:00\n",
       "2017-01-03 11:37:00   2              /pandas/        4 2017-01-03 11:37:00\n",
       "2017-01-03 10:47:00   3              /videos/        5 2017-01-03 10:47:00\n",
       "2017-01-03 11:51:00   4                     /        2 2017-01-03 11:51:00\n",
       "2017-01-03 10:32:00   5  /python-para-zumbis/        5 2017-01-03 10:32:00"
      ]
     },
     "execution_count": 47,
     "metadata": {},
     "output_type": "execute_result"
    }
   ],
   "source": [
    "log_df.head()"
   ]
  },
  {
   "cell_type": "code",
   "execution_count": 50,
   "metadata": {},
   "outputs": [
    {
     "data": {
      "text/html": [
       "<div>\n",
       "<style scoped>\n",
       "    .dataframe tbody tr th:only-of-type {\n",
       "        vertical-align: middle;\n",
       "    }\n",
       "\n",
       "    .dataframe tbody tr th {\n",
       "        vertical-align: top;\n",
       "    }\n",
       "\n",
       "    .dataframe thead th {\n",
       "        text-align: right;\n",
       "    }\n",
       "</style>\n",
       "<table border=\"1\" class=\"dataframe\">\n",
       "  <thead>\n",
       "    <tr style=\"text-align: right;\">\n",
       "      <th></th>\n",
       "      <th>id</th>\n",
       "      <th>path</th>\n",
       "      <th>user_id</th>\n",
       "      <th>date</th>\n",
       "    </tr>\n",
       "    <tr>\n",
       "      <th>date</th>\n",
       "      <th></th>\n",
       "      <th></th>\n",
       "      <th></th>\n",
       "      <th></th>\n",
       "    </tr>\n",
       "  </thead>\n",
       "  <tbody>\n",
       "    <tr>\n",
       "      <th>2017-01-03 10:47:00</th>\n",
       "      <td>3</td>\n",
       "      <td>/videos/</td>\n",
       "      <td>5</td>\n",
       "      <td>2017-01-03 10:47:00</td>\n",
       "    </tr>\n",
       "    <tr>\n",
       "      <th>2017-01-03 10:47:00</th>\n",
       "      <td>68</td>\n",
       "      <td>/cursos/</td>\n",
       "      <td>5</td>\n",
       "      <td>2017-01-03 10:47:00</td>\n",
       "    </tr>\n",
       "    <tr>\n",
       "      <th>2017-01-03 10:47:00</th>\n",
       "      <td>87</td>\n",
       "      <td>/cursos/</td>\n",
       "      <td>2</td>\n",
       "      <td>2017-01-03 10:47:00</td>\n",
       "    </tr>\n",
       "  </tbody>\n",
       "</table>\n",
       "</div>"
      ],
      "text/plain": [
       "                     id      path  user_id                date\n",
       "date                                                          \n",
       "2017-01-03 10:47:00   3  /videos/        5 2017-01-03 10:47:00\n",
       "2017-01-03 10:47:00  68  /cursos/        5 2017-01-03 10:47:00\n",
       "2017-01-03 10:47:00  87  /cursos/        2 2017-01-03 10:47:00"
      ]
     },
     "execution_count": 50,
     "metadata": {},
     "output_type": "execute_result"
    }
   ],
   "source": [
    "log_df['2017-01-03 10:47'] #consulta em serie temporal (filtro)"
   ]
  },
  {
   "cell_type": "code",
   "execution_count": 51,
   "metadata": {
    "scrolled": true
   },
   "outputs": [
    {
     "data": {
      "text/html": [
       "<div>\n",
       "<style scoped>\n",
       "    .dataframe tbody tr th:only-of-type {\n",
       "        vertical-align: middle;\n",
       "    }\n",
       "\n",
       "    .dataframe tbody tr th {\n",
       "        vertical-align: top;\n",
       "    }\n",
       "\n",
       "    .dataframe thead th {\n",
       "        text-align: right;\n",
       "    }\n",
       "</style>\n",
       "<table border=\"1\" class=\"dataframe\">\n",
       "  <thead>\n",
       "    <tr style=\"text-align: right;\">\n",
       "      <th></th>\n",
       "      <th>id</th>\n",
       "      <th>path</th>\n",
       "      <th>user_id</th>\n",
       "      <th>date</th>\n",
       "    </tr>\n",
       "    <tr>\n",
       "      <th>date</th>\n",
       "      <th></th>\n",
       "      <th></th>\n",
       "      <th></th>\n",
       "      <th></th>\n",
       "    </tr>\n",
       "  </thead>\n",
       "  <tbody>\n",
       "    <tr>\n",
       "      <th>2017-01-03 10:47:00</th>\n",
       "      <td>3</td>\n",
       "      <td>/videos/</td>\n",
       "      <td>5</td>\n",
       "      <td>2017-01-03 10:47:00</td>\n",
       "    </tr>\n",
       "    <tr>\n",
       "      <th>2017-01-03 10:51:00</th>\n",
       "      <td>32</td>\n",
       "      <td>/django-ecommerce/</td>\n",
       "      <td>2</td>\n",
       "      <td>2017-01-03 10:51:00</td>\n",
       "    </tr>\n",
       "    <tr>\n",
       "      <th>2017-01-03 10:51:00</th>\n",
       "      <td>37</td>\n",
       "      <td>/</td>\n",
       "      <td>5</td>\n",
       "      <td>2017-01-03 10:51:00</td>\n",
       "    </tr>\n",
       "    <tr>\n",
       "      <th>2017-01-03 10:51:00</th>\n",
       "      <td>46</td>\n",
       "      <td>/</td>\n",
       "      <td>5</td>\n",
       "      <td>2017-01-03 10:51:00</td>\n",
       "    </tr>\n",
       "    <tr>\n",
       "      <th>2017-01-03 10:48:00</th>\n",
       "      <td>64</td>\n",
       "      <td>/</td>\n",
       "      <td>3</td>\n",
       "      <td>2017-01-03 10:48:00</td>\n",
       "    </tr>\n",
       "    <tr>\n",
       "      <th>2017-01-03 10:47:00</th>\n",
       "      <td>68</td>\n",
       "      <td>/cursos/</td>\n",
       "      <td>5</td>\n",
       "      <td>2017-01-03 10:47:00</td>\n",
       "    </tr>\n",
       "    <tr>\n",
       "      <th>2017-01-03 10:47:00</th>\n",
       "      <td>87</td>\n",
       "      <td>/cursos/</td>\n",
       "      <td>2</td>\n",
       "      <td>2017-01-03 10:47:00</td>\n",
       "    </tr>\n",
       "    <tr>\n",
       "      <th>2017-01-03 10:49:00</th>\n",
       "      <td>96</td>\n",
       "      <td>/django-ecommerce/</td>\n",
       "      <td>1</td>\n",
       "      <td>2017-01-03 10:49:00</td>\n",
       "    </tr>\n",
       "  </tbody>\n",
       "</table>\n",
       "</div>"
      ],
      "text/plain": [
       "                     id                path  user_id                date\n",
       "date                                                                    \n",
       "2017-01-03 10:47:00   3            /videos/        5 2017-01-03 10:47:00\n",
       "2017-01-03 10:51:00  32  /django-ecommerce/        2 2017-01-03 10:51:00\n",
       "2017-01-03 10:51:00  37                   /        5 2017-01-03 10:51:00\n",
       "2017-01-03 10:51:00  46                   /        5 2017-01-03 10:51:00\n",
       "2017-01-03 10:48:00  64                   /        3 2017-01-03 10:48:00\n",
       "2017-01-03 10:47:00  68            /cursos/        5 2017-01-03 10:47:00\n",
       "2017-01-03 10:47:00  87            /cursos/        2 2017-01-03 10:47:00\n",
       "2017-01-03 10:49:00  96  /django-ecommerce/        1 2017-01-03 10:49:00"
      ]
     },
     "execution_count": 51,
     "metadata": {},
     "output_type": "execute_result"
    }
   ],
   "source": [
    "log_df['2017-01-03 10:47' : '2017-01-03 10:51']"
   ]
  },
  {
   "cell_type": "markdown",
   "metadata": {},
   "source": [
    "# Gráficos"
   ]
  },
  {
   "cell_type": "code",
   "execution_count": 12,
   "metadata": {},
   "outputs": [],
   "source": [
    "%matplotlib inline\n",
    "import matplotlib.pyplot as plt\n",
    "import seaborn as sns\n",
    "import matplotlib.dates as dates\n",
    "import datetime as dt\n",
    "import pandas as pd\n",
    "\n",
    "sns.set()"
   ]
  },
  {
   "cell_type": "code",
   "execution_count": 13,
   "metadata": {},
   "outputs": [],
   "source": [
    "df = pd.read_csv('ppz.csv')"
   ]
  },
  {
   "cell_type": "code",
   "execution_count": 14,
   "metadata": {},
   "outputs": [
    {
     "data": {
      "text/html": [
       "<div>\n",
       "<style scoped>\n",
       "    .dataframe tbody tr th:only-of-type {\n",
       "        vertical-align: middle;\n",
       "    }\n",
       "\n",
       "    .dataframe tbody tr th {\n",
       "        vertical-align: top;\n",
       "    }\n",
       "\n",
       "    .dataframe thead th {\n",
       "        text-align: right;\n",
       "    }\n",
       "</style>\n",
       "<table border=\"1\" class=\"dataframe\">\n",
       "  <thead>\n",
       "    <tr style=\"text-align: right;\">\n",
       "      <th></th>\n",
       "      <th>hour</th>\n",
       "      <th>views</th>\n",
       "    </tr>\n",
       "  </thead>\n",
       "  <tbody>\n",
       "    <tr>\n",
       "      <th>0</th>\n",
       "      <td>0</td>\n",
       "      <td>9</td>\n",
       "    </tr>\n",
       "    <tr>\n",
       "      <th>1</th>\n",
       "      <td>1</td>\n",
       "      <td>0</td>\n",
       "    </tr>\n",
       "    <tr>\n",
       "      <th>2</th>\n",
       "      <td>2</td>\n",
       "      <td>1</td>\n",
       "    </tr>\n",
       "    <tr>\n",
       "      <th>3</th>\n",
       "      <td>3</td>\n",
       "      <td>2</td>\n",
       "    </tr>\n",
       "    <tr>\n",
       "      <th>4</th>\n",
       "      <td>4</td>\n",
       "      <td>4</td>\n",
       "    </tr>\n",
       "  </tbody>\n",
       "</table>\n",
       "</div>"
      ],
      "text/plain": [
       "   hour  views\n",
       "0     0      9\n",
       "1     1      0\n",
       "2     2      1\n",
       "3     3      2\n",
       "4     4      4"
      ]
     },
     "execution_count": 14,
     "metadata": {},
     "output_type": "execute_result"
    }
   ],
   "source": [
    "df.head()"
   ]
  },
  {
   "cell_type": "code",
   "execution_count": 15,
   "metadata": {},
   "outputs": [],
   "source": [
    "def to_date(value):\n",
    "    return dt.datetime(2017,1,1) + dt.timedelta(hours=value)\n",
    "df['Date'] = df['hour'].apply(to_date)"
   ]
  },
  {
   "cell_type": "code",
   "execution_count": 16,
   "metadata": {},
   "outputs": [
    {
     "data": {
      "text/html": [
       "<div>\n",
       "<style scoped>\n",
       "    .dataframe tbody tr th:only-of-type {\n",
       "        vertical-align: middle;\n",
       "    }\n",
       "\n",
       "    .dataframe tbody tr th {\n",
       "        vertical-align: top;\n",
       "    }\n",
       "\n",
       "    .dataframe thead th {\n",
       "        text-align: right;\n",
       "    }\n",
       "</style>\n",
       "<table border=\"1\" class=\"dataframe\">\n",
       "  <thead>\n",
       "    <tr style=\"text-align: right;\">\n",
       "      <th></th>\n",
       "      <th>views</th>\n",
       "      <th>Date</th>\n",
       "    </tr>\n",
       "  </thead>\n",
       "  <tbody>\n",
       "    <tr>\n",
       "      <th>0</th>\n",
       "      <td>9</td>\n",
       "      <td>2017-01-01 00:00:00</td>\n",
       "    </tr>\n",
       "    <tr>\n",
       "      <th>1</th>\n",
       "      <td>0</td>\n",
       "      <td>2017-01-01 01:00:00</td>\n",
       "    </tr>\n",
       "    <tr>\n",
       "      <th>2</th>\n",
       "      <td>1</td>\n",
       "      <td>2017-01-01 02:00:00</td>\n",
       "    </tr>\n",
       "    <tr>\n",
       "      <th>3</th>\n",
       "      <td>2</td>\n",
       "      <td>2017-01-01 03:00:00</td>\n",
       "    </tr>\n",
       "    <tr>\n",
       "      <th>4</th>\n",
       "      <td>4</td>\n",
       "      <td>2017-01-01 04:00:00</td>\n",
       "    </tr>\n",
       "  </tbody>\n",
       "</table>\n",
       "</div>"
      ],
      "text/plain": [
       "   views                Date\n",
       "0      9 2017-01-01 00:00:00\n",
       "1      0 2017-01-01 01:00:00\n",
       "2      1 2017-01-01 02:00:00\n",
       "3      2 2017-01-01 03:00:00\n",
       "4      4 2017-01-01 04:00:00"
      ]
     },
     "execution_count": 16,
     "metadata": {},
     "output_type": "execute_result"
    }
   ],
   "source": [
    "del df['hour']\n",
    "df.head()"
   ]
  },
  {
   "cell_type": "code",
   "execution_count": 17,
   "metadata": {},
   "outputs": [],
   "source": [
    "df.set_index(['Date'], inplace = True)"
   ]
  },
  {
   "cell_type": "code",
   "execution_count": 18,
   "metadata": {},
   "outputs": [
    {
     "data": {
      "text/html": [
       "<div>\n",
       "<style scoped>\n",
       "    .dataframe tbody tr th:only-of-type {\n",
       "        vertical-align: middle;\n",
       "    }\n",
       "\n",
       "    .dataframe tbody tr th {\n",
       "        vertical-align: top;\n",
       "    }\n",
       "\n",
       "    .dataframe thead th {\n",
       "        text-align: right;\n",
       "    }\n",
       "</style>\n",
       "<table border=\"1\" class=\"dataframe\">\n",
       "  <thead>\n",
       "    <tr style=\"text-align: right;\">\n",
       "      <th></th>\n",
       "      <th>views</th>\n",
       "    </tr>\n",
       "    <tr>\n",
       "      <th>Date</th>\n",
       "      <th></th>\n",
       "    </tr>\n",
       "  </thead>\n",
       "  <tbody>\n",
       "    <tr>\n",
       "      <th>2017-01-01 00:00:00</th>\n",
       "      <td>9</td>\n",
       "    </tr>\n",
       "    <tr>\n",
       "      <th>2017-01-01 01:00:00</th>\n",
       "      <td>0</td>\n",
       "    </tr>\n",
       "    <tr>\n",
       "      <th>2017-01-01 02:00:00</th>\n",
       "      <td>1</td>\n",
       "    </tr>\n",
       "    <tr>\n",
       "      <th>2017-01-01 03:00:00</th>\n",
       "      <td>2</td>\n",
       "    </tr>\n",
       "    <tr>\n",
       "      <th>2017-01-01 04:00:00</th>\n",
       "      <td>4</td>\n",
       "    </tr>\n",
       "  </tbody>\n",
       "</table>\n",
       "</div>"
      ],
      "text/plain": [
       "                     views\n",
       "Date                      \n",
       "2017-01-01 00:00:00      9\n",
       "2017-01-01 01:00:00      0\n",
       "2017-01-01 02:00:00      1\n",
       "2017-01-01 03:00:00      2\n",
       "2017-01-01 04:00:00      4"
      ]
     },
     "execution_count": 18,
     "metadata": {},
     "output_type": "execute_result"
    }
   ],
   "source": []
  },
  {
   "cell_type": "code",
   "execution_count": 40,
   "metadata": {
    "scrolled": true
   },
   "outputs": [
    {
     "data": {
      "image/png": "[encoded data removed]",
      "text/plain": [
       "<Figure size 720x360 with 1 Axes>"
      ]
     },
     "metadata": {},
     "output_type": "display_data"
    }
   ],
   "source": [
    "fig, ax = plt.subplots()\n",
    "fig.set_size_inches([10,5])\n",
    "ax.set_xlim([min(df.index), max(df.index)])\n",
    "ax.plot_date(df.index.to_pydatetime(), df.views, 'b-')\n",
    "ax.xaxis.set_minor_locator(dates.DayLocator(bymonthday = range(5,32,5)))\n",
    "ax.xaxis.set_minor_formatter(dates.DateFormatter('%d'))\n",
    "ax.xaxis.grid(True, which='minor')\n",
    "ax.yaxis.grid()\n",
    "ax.xaxis.set_major_locator(dates.MonthLocator())\n",
    "ax.xaxis.set_major_formatter(dates.DateFormatter('%b'))\n",
    "plt.tight_layout()"
   ]
  },
  {
   "cell_type": "code",
   "execution_count": null,
   "metadata": {},
   "outputs": [],
   "source": []
  }
 ],
 "metadata": {
  "kernelspec": {
   "display_name": "Python 3",
   "language": "python",
   "name": "python3"
  },
  "language_info": {
   "codemirror_mode": {
    "name": "ipython",
    "version": 3
   },
   "file_extension": ".py",
   "mimetype": "text/x-python",
   "name": "python",
   "nbconvert_exporter": "python",
   "pygments_lexer": "ipython3",
   "version": "3.5.2"
  }
 },
 "nbformat": 4,
 "nbformat_minor": 2
}
